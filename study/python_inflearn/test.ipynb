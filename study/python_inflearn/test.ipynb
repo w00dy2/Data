{
 "cells": [
  {
   "cell_type": "code",
   "execution_count": 1,
   "metadata": {},
   "outputs": [
    {
     "name": "stdout",
     "output_type": "stream",
     "text": [
      "['Ferrari', 'Audi']\n",
      "[{'color': 'White', 'horsepower': 400, 'price': 8000}, {'color': 'Silver', 'horsepower': 300, 'price': 6000}]\n"
     ]
    }
   ],
   "source": [
    "car_company_list = ['Ferrari', 'Bmw', 'Audi']\n",
    "car_detail_list = [\n",
    "    {'color' : 'White', 'horsepower': 400, 'price': 8000},\n",
    "    {'color' : 'Black', 'horsepower': 270, 'price': 5000},\n",
    "    {'color' : 'Silver', 'horsepower': 300, 'price': 6000}\n",
    "]\n",
    "\n",
    "# 자동차 회사 삭제\n",
    "del car_company_list[1]\n",
    "del car_detail_list[1]\n",
    "\n",
    "print(car_company_list)\n",
    "print(car_detail_list)"
   ]
  },
  {
   "cell_type": "code",
   "execution_count": 2,
   "metadata": {},
   "outputs": [
    {
     "name": "stdout",
     "output_type": "stream",
     "text": [
      "['Ferrari', 'Audi']\n",
      "[{'color': 'White', 'horsepower': 400, 'price': 8000}, {'color': 'Silver', 'horsepower': 300, 'price': 6000}]\n"
     ]
    }
   ],
   "source": [
    "car_company_list = ['Ferrari', 'Bmw', 'Audi']\n",
    "car_detail_list = [\n",
    "    {'color' : 'White', 'horsepower': 400, 'price': 8000},\n",
    "    {'color' : 'Black', 'horsepower': 270, 'price': 5000},\n",
    "    {'color' : 'Silver', 'horsepower': 300, 'price': 6000}\n",
    "]\n",
    "\n",
    "# 자동차 회사 삭제 (pop 사용)\n",
    "car_company_list.pop(1)  # index 1의 요소 삭제 (Bmw)\n",
    "car_detail_list.pop(1)   # index 1의 요소 삭제 (Black 자동차 정보)\n",
    "\n",
    "print(car_company_list)\n",
    "print(car_detail_list)"
   ]
  }
 ],
 "metadata": {
  "kernelspec": {
   "display_name": "Python 3",
   "language": "python",
   "name": "python3"
  },
  "language_info": {
   "codemirror_mode": {
    "name": "ipython",
    "version": 3
   },
   "file_extension": ".py",
   "mimetype": "text/x-python",
   "name": "python",
   "nbconvert_exporter": "python",
   "pygments_lexer": "ipython3",
   "version": "3.12.0"
  }
 },
 "nbformat": 4,
 "nbformat_minor": 2
}
