{
 "cells": [
  {
   "cell_type": "code",
   "execution_count": 1,
   "metadata": {},
   "outputs": [
    {
     "name": "stdout",
     "output_type": "stream",
     "text": [
      "['Ferrari', 'Audi']\n",
      "[{'color': 'White', 'horsepower': 400, 'price': 8000}, {'color': 'Silver', 'horsepower': 300, 'price': 6000}]\n"
     ]
    }
   ],
   "source": [
    "car_company_list = ['Ferrari', 'Bmw', 'Audi']\n",
    "car_detail_list = [\n",
    "    {'color' : 'White', 'horsepower': 400, 'price': 8000},\n",
    "    {'color' : 'Black', 'horsepower': 270, 'price': 5000},\n",
    "    {'color' : 'Silver', 'horsepower': 300, 'price': 6000}\n",
    "]\n",
    "\n",
    "# 자동차 회사 삭제\n",
    "del car_company_list[1]\n",
    "del car_detail_list[1]\n",
    "\n",
    "print(car_company_list)\n",
    "print(car_detail_list)"
   ]
  },
  {
   "cell_type": "code",
   "execution_count": 2,
   "metadata": {},
   "outputs": [
    {
     "name": "stdout",
     "output_type": "stream",
     "text": [
      "['Ferrari', 'Audi']\n",
      "[{'color': 'White', 'horsepower': 400, 'price': 8000}, {'color': 'Silver', 'horsepower': 300, 'price': 6000}]\n"
     ]
    }
   ],
   "source": [
    "car_company_list = ['Ferrari', 'Bmw', 'Audi']\n",
    "car_detail_list = [\n",
    "    {'color' : 'White', 'horsepower': 400, 'price': 8000},\n",
    "    {'color' : 'Black', 'horsepower': 270, 'price': 5000},\n",
    "    {'color' : 'Silver', 'horsepower': 300, 'price': 6000}\n",
    "]\n",
    "\n",
    "# 자동차 회사 삭제 (pop 사용)\n",
    "car_company_list.pop(1)  # index 1의 요소 삭제 (Bmw)\n",
    "car_detail_list.pop(1)   # index 1의 요소 삭제 (Black 자동차 정보)\n",
    "\n",
    "print(car_company_list)\n",
    "print(car_detail_list)"
   ]
  },
  {
   "cell_type": "code",
   "execution_count": 2,
   "metadata": {},
   "outputs": [
    {
     "name": "stdout",
     "output_type": "stream",
     "text": [
      "['__add__', '__class__', '__contains__', '__delattr__', '__dir__', '__doc__', '__eq__', '__format__', '__ge__', '__getattribute__', '__getitem__', '__getnewargs__', '__getstate__', '__gt__', '__hash__', '__init__', '__init_subclass__', '__iter__', '__le__', '__len__', '__lt__', '__mod__', '__mul__', '__ne__', '__new__', '__reduce__', '__reduce_ex__', '__repr__', '__rmod__', '__rmul__', '__setattr__', '__sizeof__', '__str__', '__subclasshook__', 'capitalize', 'casefold', 'center', 'count', 'encode', 'endswith', 'expandtabs', 'find', 'format', 'format_map', 'index', 'isalnum', 'isalpha', 'isascii', 'isdecimal', 'isdigit', 'isidentifier', 'islower', 'isnumeric', 'isprintable', 'isspace', 'istitle', 'isupper', 'join', 'ljust', 'lower', 'lstrip', 'maketrans', 'partition', 'removeprefix', 'removesuffix', 'replace', 'rfind', 'rindex', 'rjust', 'rpartition', 'rsplit', 'rstrip', 'split', 'splitlines', 'startswith', 'strip', 'swapcase', 'title', 'translate', 'upper', 'zfill']\n"
     ]
    }
   ],
   "source": [
    "chars = '+_)(*&^%$#@!)'\n",
    "print(dir(chars))"
   ]
  }
 ],
 "metadata": {
  "kernelspec": {
   "display_name": "Python 3",
   "language": "python",
   "name": "python3"
  },
  "language_info": {
   "codemirror_mode": {
    "name": "ipython",
    "version": 3
   },
   "file_extension": ".py",
   "mimetype": "text/x-python",
   "name": "python",
   "nbconvert_exporter": "python",
   "pygments_lexer": "ipython3",
   "version": "3.12.0"
  }
 },
 "nbformat": 4,
 "nbformat_minor": 2
}
