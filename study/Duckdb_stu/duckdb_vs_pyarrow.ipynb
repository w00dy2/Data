{
 "cells": [
  {
   "cell_type": "code",
   "execution_count": 1,
   "metadata": {},
   "outputs": [
    {
     "name": "stdout",
     "output_type": "stream",
     "text": [
      "DuckDB 소요 시간: 2651.045915929\n"
     ]
    }
   ],
   "source": [
    "import duckdb\n",
    "import timeit\n",
    "\n",
    "# DuckDB에 연결\n",
    "conn = duckdb.connect(':memory:')\n",
    "\n",
    "# 시간 측정 시작\n",
    "start_time = timeit.default_timer()\n",
    "\n",
    "# Parquet 파일을 DuckDB 테이블로 로드\n",
    "conn.execute(\"CREATE TABLE table1 AS SELECT * FROM parquet_scan('/home/theo/dataset/test_data.parquet')\")\n",
    "conn.execute(\"CREATE TABLE table2 AS SELECT * FROM parquet_scan('/home/theo/dataset/train_data.parquet')\")\n",
    "\n",
    "# 두 테이블을 병합하고 distinct 작업 수행\n",
    "result = conn.execute(\"SELECT DISTINCT * FROM (SELECT * FROM table1 UNION ALL SELECT * FROM table2)\")\n",
    "\n",
    "# 시간 측정 종료 및 소요 시간 출력\n",
    "end_time = timeit.default_timer()\n",
    "print(\"DuckDB 소요 시간:\", end_time - start_time)\n"
   ]
  },
  {
   "cell_type": "code",
   "execution_count": 1,
   "metadata": {},
   "outputs": [
    {
     "ename": "NameError",
     "evalue": "name 'conn' is not defined",
     "output_type": "error",
     "traceback": [
      "\u001b[0;31m---------------------------------------------------------------------------\u001b[0m",
      "\u001b[0;31mNameError\u001b[0m                                 Traceback (most recent call last)",
      "Cell \u001b[0;32mIn[1], line 2\u001b[0m\n\u001b[1;32m      1\u001b[0m \u001b[38;5;66;03m# distinct 적용 전\u001b[39;00m\n\u001b[0;32m----> 2\u001b[0m rows_before \u001b[38;5;241m=\u001b[39m \u001b[43mconn\u001b[49m\u001b[38;5;241m.\u001b[39mexecute(\u001b[38;5;124m\"\u001b[39m\u001b[38;5;124mSELECT COUNT(*) FROM (SELECT * FROM table1 UNION ALL SELECT * FROM table2)\u001b[39m\u001b[38;5;124m\"\u001b[39m)\u001b[38;5;241m.\u001b[39mfetchone()[\u001b[38;5;241m0\u001b[39m]\n\u001b[1;32m      3\u001b[0m \u001b[38;5;66;03m#unique_values_before = conn.execute(\"SELECT COUNT(DISTINCT COLUMNS(*)) FROM (SELECT * FROM table1 UNION ALL SELECT * FROM table2)\").fetchone()[0]\u001b[39;00m\n\u001b[1;32m      4\u001b[0m \u001b[38;5;66;03m#\u001b[39;00m\n\u001b[1;32m      5\u001b[0m \u001b[38;5;66;03m# distinct 적용 후\u001b[39;00m\n\u001b[1;32m      6\u001b[0m rows_after \u001b[38;5;241m=\u001b[39m conn\u001b[38;5;241m.\u001b[39mexecute(\u001b[38;5;124m\"\u001b[39m\u001b[38;5;124mSELECT COUNT(*) FROM (SELECT DISTINCT * FROM (SELECT * FROM table1 UNION ALL SELECT * FROM table2))\u001b[39m\u001b[38;5;124m\"\u001b[39m)\u001b[38;5;241m.\u001b[39mfetchone()[\u001b[38;5;241m0\u001b[39m]\n",
      "\u001b[0;31mNameError\u001b[0m: name 'conn' is not defined"
     ]
    }
   ],
   "source": [
    "# distinct 적용 전\n",
    "rows_before = conn.execute(\"SELECT COUNT(*) FROM (SELECT * FROM table1 UNION ALL SELECT * FROM table2)\").fetchone()[0]\n",
    "#unique_values_before = conn.execute(\"SELECT COUNT(DISTINCT COLUMNS(*)) FROM (SELECT * FROM table1 UNION ALL SELECT * FROM table2)\").fetchone()[0]\n",
    "#\n",
    "# distinct 적용 후\n",
    "rows_after = conn.execute(\"SELECT COUNT(*) FROM (SELECT DISTINCT * FROM (SELECT * FROM table1 UNION ALL SELECT * FROM table2))\").fetchone()[0]\n",
    "#unique_values_after = conn.execute(\"SELECT COUNT(DISTINCT COLUMNS(*)) FROM (SELECT DISTINCT * FROM (SELECT * FROM table1 UNION ALL SELECT * FROM table2))\").fetchone()[0]\n",
    "\n",
    "print(\"Distinct 적용 전 행 수:\", rows_before)\n",
    "#print(\"Distinct 적용 전 고유한 값 수:\", unique_values_before)\n",
    "print(\"Distinct 적용 후 행 수:\", rows_after)\n",
    "#print(\"Distinct 적용 후 고유한 값 수:\", unique_values_after)\n"
   ]
  },
  {
   "cell_type": "code",
   "execution_count": null,
   "metadata": {},
   "outputs": [],
   "source": [
    "import duckdb\n",
    "import pyarrow.parquet as pq\n",
    "import timeit\n",
    "\n",
    "# duckdb 연결\n",
    "con = duckdb.connect(database=':memory:', read_only=False)\n",
    "\n",
    "# duckdb 테이블 생성\n",
    "con.execute(\"CREATE TABLE geoparquet (address VARCHAR, boundary DOUBLE)\")\n",
    "\n",
    "# 모든 GeoParquet 파일을 읽어서 duckdb에 데이터 로드\n",
    "def load_data():\n",
    "    for i in range(1, 18):\n",
    "        file_path = f\"path/to/geoparquet{i}.parquet\"\n",
    "        table = pq.read_table(file_path)\n",
    "        df = table.to_pandas()\n",
    "        con.register(f\"geoparquet_temp{i}\", df)\n",
    "        con.execute(f\"INSERT INTO geoparquet SELECT * FROM geoparquet_temp{i}\")\n",
    "\n",
    "# 중복 제거 쿼리 실행\n",
    "def run_query():\n",
    "    query = \"\"\"\n",
    "    SELECT DISTINCT address, boundary FROM geoparquet\n",
    "    \"\"\"\n",
    "    result = con.execute(query)\n",
    "    for row in result:\n",
    "        print(row)\n",
    "\n",
    "# 시간 측정\n",
    "load_time = timeit.timeit(load_data, number=1)\n",
    "query_time = timeit.timeit(run_query, number=1)\n",
    "\n",
    "# 결과 출력\n",
    "print(f\"데이터 로드 시간: {load_time} 초\")\n",
    "print(f\"중복 제거 쿼리 실행 시간: {query_time} 초\")\n"
   ]
  },
  {
   "cell_type": "code",
   "execution_count": null,
   "metadata": {},
   "outputs": [],
   "source": [
    "import duckdb\n",
    "import timeit\n",
    "\n",
    "# DuckDB에 연결\n",
    "conn = duckdb.connect(':memory:')\n",
    "\n",
    "# 시간 측정 시작\n",
    "start_time = timeit.default_timer()\n",
    "\n",
    "# Parquet 파일을 DuckDB 테이블로 로드\n",
    "conn.execute(\"CREATE TABLE table1 AS SELECT * FROM parquet_scan('/home/theo/dataset/test_data.parquet')\")\n",
    "conn.execute(\"CREATE TABLE table2 AS SELECT * FROM parquet_scan('/home/theo/dataset/train_data.parquet')\")\n",
    "\n",
    "# 두 테이블을 병합하고 distinct 작업 수행\n",
    "result = conn.execute(\"SELECT DISTINCT * FROM (SELECT * FROM table1 UNION ALL SELECT * FROM table2)\")\n",
    "\n",
    "# 시간 측정 종료 및 소요 시간 출력\n",
    "end_time = timeit.default_timer()\n",
    "print(\"DuckDB 소요 시간:\", end_time - start_time)\n"
   ]
  }
 ],
 "metadata": {
  "kernelspec": {
   "display_name": "Python 3",
   "language": "python",
   "name": "python3"
  },
  "language_info": {
   "codemirror_mode": {
    "name": "ipython",
    "version": 3
   },
   "file_extension": ".py",
   "mimetype": "text/x-python",
   "name": "python",
   "nbconvert_exporter": "python",
   "pygments_lexer": "ipython3",
   "version": "3.10.12"
  }
 },
 "nbformat": 4,
 "nbformat_minor": 2
}
