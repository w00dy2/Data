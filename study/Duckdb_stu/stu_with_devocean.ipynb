{
 "cells": [
  {
   "cell_type": "markdown",
   "metadata": {
    "vscode": {
     "languageId": "plaintext"
    }
   },
   "source": [
    "https://devocean.sk.com/blog/techBoardDetail.do?ID=165772"
   ]
  },
  {
   "cell_type": "markdown",
   "metadata": {},
   "source": [
    "DuckDB는 Google의 Jordan Tigani가 'big data is dead'를 발표하면서 주목받기 시작한 오픈소스 인메모리 SQL OLAP 데이터베이스 처리 시스템으로, 데이터 분석 및 OLAP에 최적화되어 있으며 C++로 구현되어 있습니다. 이는 애플리케이션 내부에서 동작하며 서버 없이 간단한 파일 기반으로 데이터를 처리하고 저장할 수 있어 설치와 사용이 간단합니다. DuckDB는 표준 SQL을 지원하며 Python과 R과의 연동이 용이하고, 무료 오픈 소스 라이선스로 누구나 사용하고 수정할 수 있어 접근성이 높습니다."
   ]
  },
  {
   "cell_type": "markdown",
   "metadata": {
    "vscode": {
     "languageId": "plaintext"
    }
   },
   "source": [
    "1. C++로 작성된 오픈소스\n",
    "2. SQLLite와 같이 In-Process이다.\n",
    "    -> application 내에서 processing 된다.\n",
    "3. 데이터를 인메모리에서 처리하고 파일로 저장 가능\n",
    "\n",
    "\n",
    "파일기반 데이터베이스란?\n",
    "따로 DB서버가 존재하지 않고, 프로세스가 해당db 라이브러리 함수를 통해 db에 직접 접근. 처리\n",
    "\n",
    "\n"
   ]
  }
 ],
 "metadata": {
  "language_info": {
   "name": "python"
  }
 },
 "nbformat": 4,
 "nbformat_minor": 2
}
