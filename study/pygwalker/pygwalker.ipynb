{
 "cells": [
  {
   "cell_type": "markdown",
   "metadata": {},
   "source": [
    "https://github.com/Kanaries/pygwalker/blob/main/docs/README.ko.md"
   ]
  },
  {
   "cell_type": "markdown",
   "metadata": {},
   "source": [
    "pygwalker란?\n",
    "\n",
    "PyGWalker는 판다스 데이터프레임 (및 폴라 데이터프레임)을 Tableau 스타일의 사용자 인터페이스로 변환하여 Jupyter Notebook 데이터 분석 및 데이터 시각화 워크플로우를 간소화할 수 있습니다."
   ]
  },
  {
   "cell_type": "code",
   "execution_count": 2,
   "metadata": {},
   "outputs": [
    {
     "name": "stdout",
     "output_type": "stream",
     "text": [
      "Defaulting to user installation because normal site-packages is not writeable\n",
      "Requirement already satisfied: pygwalker in /home/theo/.local/lib/python3.10/site-packages (0.4.8)\n",
      "Requirement already satisfied: appdirs in /home/theo/.local/lib/python3.10/site-packages (from pygwalker) (1.4.4)\n",
      "Requirement already satisfied: arrow in /home/theo/.local/lib/python3.10/site-packages (from pygwalker) (1.3.0)\n",
      "Requirement already satisfied: astor in /home/theo/.local/lib/python3.10/site-packages (from pygwalker) (0.8.1)\n",
      "Requirement already satisfied: cachetools in /home/theo/.local/lib/python3.10/site-packages (from pygwalker) (5.3.3)\n",
      "Requirement already satisfied: duckdb==0.10.1 in /home/theo/.local/lib/python3.10/site-packages (from pygwalker) (0.10.1)\n",
      "Requirement already satisfied: gw-dsl-parser==0.1.47 in /home/theo/.local/lib/python3.10/site-packages (from pygwalker) (0.1.47)\n",
      "Requirement already satisfied: ipython in /home/theo/.local/lib/python3.10/site-packages (from pygwalker) (8.22.2)\n",
      "Requirement already satisfied: ipywidgets in /home/theo/.local/lib/python3.10/site-packages (from pygwalker) (8.1.2)\n",
      "Requirement already satisfied: jinja2 in /usr/local/lib/python3.10/dist-packages (from pygwalker) (3.1.2)\n",
      "Requirement already satisfied: kanaries-track==0.0.4 in /home/theo/.local/lib/python3.10/site-packages (from pygwalker) (0.0.4)\n",
      "Requirement already satisfied: packaging in /home/theo/.local/lib/python3.10/site-packages (from pygwalker) (23.2)\n",
      "Requirement already satisfied: pandas in /home/theo/.local/lib/python3.10/site-packages (from pygwalker) (2.2.1)\n",
      "Requirement already satisfied: psutil in /home/theo/.local/lib/python3.10/site-packages (from pygwalker) (5.9.8)\n",
      "Requirement already satisfied: pyarrow in /usr/local/lib/python3.10/dist-packages (from pygwalker) (9.0.0)\n",
      "Requirement already satisfied: pydantic in /home/theo/.local/lib/python3.10/site-packages (from pygwalker) (2.6.4)\n",
      "Requirement already satisfied: pytz in /home/theo/.local/lib/python3.10/site-packages (from pygwalker) (2024.1)\n",
      "Requirement already satisfied: requests in /home/theo/.local/lib/python3.10/site-packages (from pygwalker) (2.31.0)\n",
      "Requirement already satisfied: segment-analytics-python==2.2.3 in /home/theo/.local/lib/python3.10/site-packages (from pygwalker) (2.2.3)\n",
      "Requirement already satisfied: sqlalchemy in /usr/local/lib/python3.10/dist-packages (from pygwalker) (2.0.29)\n",
      "Requirement already satisfied: sqlglot>=19.0.0 in /home/theo/.local/lib/python3.10/site-packages (from pygwalker) (23.11.2)\n",
      "Requirement already satisfied: typing-extensions in /home/theo/.local/lib/python3.10/site-packages (from pygwalker) (4.10.0)\n",
      "Requirement already satisfied: wasmtime==12.0.0 in /home/theo/.local/lib/python3.10/site-packages (from gw-dsl-parser==0.1.47->pygwalker) (12.0.0)\n",
      "Requirement already satisfied: backoff>=2.2.1 in /home/theo/.local/lib/python3.10/site-packages (from kanaries-track==0.0.4->pygwalker) (2.2.1)\n",
      "Requirement already satisfied: dateutils>=0.6.12 in /home/theo/.local/lib/python3.10/site-packages (from kanaries-track==0.0.4->pygwalker) (0.6.12)\n",
      "Requirement already satisfied: monotonic~=1.5 in /home/theo/.local/lib/python3.10/site-packages (from segment-analytics-python==2.2.3->pygwalker) (1.6)\n",
      "Requirement already satisfied: python-dateutil~=2.2 in /home/theo/.local/lib/python3.10/site-packages (from segment-analytics-python==2.2.3->pygwalker) (2.9.0.post0)\n",
      "Requirement already satisfied: charset-normalizer<4,>=2 in /home/theo/.local/lib/python3.10/site-packages (from requests->pygwalker) (3.3.2)\n",
      "Requirement already satisfied: idna<4,>=2.5 in /home/theo/.local/lib/python3.10/site-packages (from requests->pygwalker) (3.6)\n",
      "Requirement already satisfied: urllib3<3,>=1.21.1 in /home/theo/.local/lib/python3.10/site-packages (from requests->pygwalker) (2.2.1)\n",
      "Requirement already satisfied: certifi>=2017.4.17 in /home/theo/.local/lib/python3.10/site-packages (from requests->pygwalker) (2024.2.2)\n",
      "Requirement already satisfied: types-python-dateutil>=2.8.10 in /home/theo/.local/lib/python3.10/site-packages (from arrow->pygwalker) (2.9.0.20240316)\n",
      "Requirement already satisfied: decorator in /home/theo/.local/lib/python3.10/site-packages (from ipython->pygwalker) (5.1.1)\n",
      "Requirement already satisfied: jedi>=0.16 in /home/theo/.local/lib/python3.10/site-packages (from ipython->pygwalker) (0.19.1)\n",
      "Requirement already satisfied: matplotlib-inline in /home/theo/.local/lib/python3.10/site-packages (from ipython->pygwalker) (0.1.6)\n",
      "Requirement already satisfied: prompt-toolkit<3.1.0,>=3.0.41 in /home/theo/.local/lib/python3.10/site-packages (from ipython->pygwalker) (3.0.43)\n",
      "Requirement already satisfied: pygments>=2.4.0 in /home/theo/.local/lib/python3.10/site-packages (from ipython->pygwalker) (2.17.2)\n",
      "Requirement already satisfied: stack-data in /home/theo/.local/lib/python3.10/site-packages (from ipython->pygwalker) (0.6.3)\n",
      "Requirement already satisfied: traitlets>=5.13.0 in /home/theo/.local/lib/python3.10/site-packages (from ipython->pygwalker) (5.14.2)\n",
      "Requirement already satisfied: exceptiongroup in /home/theo/.local/lib/python3.10/site-packages (from ipython->pygwalker) (1.2.0)\n",
      "Requirement already satisfied: pexpect>4.3 in /home/theo/.local/lib/python3.10/site-packages (from ipython->pygwalker) (4.9.0)\n",
      "Requirement already satisfied: comm>=0.1.3 in /home/theo/.local/lib/python3.10/site-packages (from ipywidgets->pygwalker) (0.2.2)\n",
      "Requirement already satisfied: widgetsnbextension~=4.0.10 in /home/theo/.local/lib/python3.10/site-packages (from ipywidgets->pygwalker) (4.0.10)\n",
      "Requirement already satisfied: jupyterlab-widgets~=3.0.10 in /home/theo/.local/lib/python3.10/site-packages (from ipywidgets->pygwalker) (3.0.10)\n",
      "Requirement already satisfied: MarkupSafe>=2.0 in /usr/local/lib/python3.10/dist-packages (from jinja2->pygwalker) (2.1.1)\n",
      "Requirement already satisfied: numpy<2,>=1.22.4 in /home/theo/.local/lib/python3.10/site-packages (from pandas->pygwalker) (1.26.4)\n",
      "Requirement already satisfied: tzdata>=2022.7 in /home/theo/.local/lib/python3.10/site-packages (from pandas->pygwalker) (2024.1)\n",
      "Requirement already satisfied: annotated-types>=0.4.0 in /home/theo/.local/lib/python3.10/site-packages (from pydantic->pygwalker) (0.6.0)\n",
      "Requirement already satisfied: pydantic-core==2.16.3 in /home/theo/.local/lib/python3.10/site-packages (from pydantic->pygwalker) (2.16.3)\n",
      "Requirement already satisfied: greenlet!=0.4.17 in /usr/local/lib/python3.10/dist-packages (from sqlalchemy->pygwalker) (3.0.3)\n",
      "Requirement already satisfied: parso<0.9.0,>=0.8.3 in /home/theo/.local/lib/python3.10/site-packages (from jedi>=0.16->ipython->pygwalker) (0.8.3)\n",
      "Requirement already satisfied: ptyprocess>=0.5 in /home/theo/.local/lib/python3.10/site-packages (from pexpect>4.3->ipython->pygwalker) (0.7.0)\n",
      "Requirement already satisfied: wcwidth in /home/theo/.local/lib/python3.10/site-packages (from prompt-toolkit<3.1.0,>=3.0.41->ipython->pygwalker) (0.2.13)\n",
      "Requirement already satisfied: six>=1.5 in /home/theo/.local/lib/python3.10/site-packages (from python-dateutil~=2.2->segment-analytics-python==2.2.3->pygwalker) (1.16.0)\n",
      "Requirement already satisfied: executing>=1.2.0 in /home/theo/.local/lib/python3.10/site-packages (from stack-data->ipython->pygwalker) (2.0.1)\n",
      "Requirement already satisfied: asttokens>=2.1.0 in /home/theo/.local/lib/python3.10/site-packages (from stack-data->ipython->pygwalker) (2.4.1)\n",
      "Requirement already satisfied: pure-eval in /home/theo/.local/lib/python3.10/site-packages (from stack-data->ipython->pygwalker) (0.2.2)\n"
     ]
    }
   ],
   "source": [
    "!pip install pygwalker --upgrade"
   ]
  },
  {
   "cell_type": "code",
   "execution_count": 3,
   "metadata": {},
   "outputs": [],
   "source": [
    "import pandas as pd\n",
    "import pygwalker as pyg"
   ]
  },
  {
   "cell_type": "code",
   "execution_count": null,
   "metadata": {},
   "outputs": [],
   "source": [
    "# 예시\n",
    "df = pd.read_csv('./bike_sharing_dc.csv')\n",
    "walker = pyg.walk(df)"
   ]
  },
  {
   "cell_type": "code",
   "execution_count": 4,
   "metadata": {},
   "outputs": [
    {
     "ename": "NameError",
     "evalue": "name 'df' is not defined",
     "output_type": "error",
     "traceback": [
      "\u001b[0;31m---------------------------------------------------------------------------\u001b[0m",
      "\u001b[0;31mNameError\u001b[0m                                 Traceback (most recent call last)",
      "Cell \u001b[0;32mIn[4], line 3\u001b[0m\n\u001b[1;32m      1\u001b[0m \u001b[38;5;66;03m# 예시 2 df = pd.read_csv('./bike_sharing_dc.csv')\u001b[39;00m\n\u001b[1;32m      2\u001b[0m walker \u001b[38;5;241m=\u001b[39m pyg\u001b[38;5;241m.\u001b[39mwalk(\n\u001b[0;32m----> 3\u001b[0m     \u001b[43mdf\u001b[49m,\n\u001b[1;32m      4\u001b[0m     spec\u001b[38;5;241m=\u001b[39m\u001b[38;5;124m\"\u001b[39m\u001b[38;5;124m./chart_meta_0.json\u001b[39m\u001b[38;5;124m\"\u001b[39m,    \u001b[38;5;66;03m# 이 json 파일은 차트 상태를 저장하며, 차트를 완료할 때 수동으로 저장 버튼을 클릭해야 합니다. 'autosave'는 미래에 지원될 예정입니다.\u001b[39;00m\n\u001b[1;32m      5\u001b[0m     kernel_computation\u001b[38;5;241m=\u001b[39m\u001b[38;5;28;01mTrue\u001b[39;00m,          \u001b[38;5;66;03m# `kernel_computation=True`로 설정하면 pygwalker가 계산 엔진으로 duckdb를 사용하며, 더 큰 데이터셋(<=100GB)을 탐색할 수 있습니다.\u001b[39;00m\n\u001b[1;32m      6\u001b[0m )\n",
      "\u001b[0;31mNameError\u001b[0m: name 'df' is not defined"
     ]
    }
   ],
   "source": [
    "# 예시 2 \n",
    "df = pd.read_csv('./bike_sharing_dc.csv')\n",
    "walker = pyg.walk(\n",
    "    df,\n",
    "    spec=\"./chart_meta_0.json\",    # 이 json 파일은 차트 상태를 저장하며, 차트를 완료할 때 수동으로 저장 버튼을 클릭해야 합니다. 'autosave'는 미래에 지원될 예정입니다.\n",
    "    kernel_computation=True,          # `kernel_computation=True`로 설정하면 pygwalker가 계산 엔진으로 duckdb를 사용하며, 더 큰 데이터셋(<=100GB)을 탐색할 수 있습니다.\n",
    ")"
   ]
  },
  {
   "cell_type": "code",
   "execution_count": null,
   "metadata": {},
   "outputs": [],
   "source": []
  }
 ],
 "metadata": {
  "kernelspec": {
   "display_name": "Python 3",
   "language": "python",
   "name": "python3"
  },
  "language_info": {
   "codemirror_mode": {
    "name": "ipython",
    "version": 3
   },
   "file_extension": ".py",
   "mimetype": "text/x-python",
   "name": "python",
   "nbconvert_exporter": "python",
   "pygments_lexer": "ipython3",
   "version": "3.10.12"
  }
 },
 "nbformat": 4,
 "nbformat_minor": 2
}
