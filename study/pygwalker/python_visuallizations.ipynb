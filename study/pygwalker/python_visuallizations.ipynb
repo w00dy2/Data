{
 "cells": [
  {
   "cell_type": "markdown",
   "metadata": {},
   "source": [
    "python visualization을 웹 호스팅하기 위한 방법 5가지\n",
    "https://docs.kanaries.net/ko/articles/lib-for-hosting-pygwalker\n",
    "\n",
    "1. Streamlit\n",
    "2. Gradio\n",
    "3. Dash\n",
    "4. Shiny-Python\n",
    "5. Flask"
   ]
  },
  {
   "cell_type": "markdown",
   "metadata": {
    "vscode": {
     "languageId": "plaintext"
    }
   },
   "source": [
    "# 1. Streamlit\n",
    "\n",
    "데이터사이언티스트를 위한 라이브러리\n",
    "\n",
    "- 빠른 데이터 앱 개발이 가능\n",
    "- 간편하게 데이터 스크립트 조작 가능\n",
    "- 앱을 다시 시작하지 않아도 실시간 변경사항 확인 가능\n",
    "\n"
   ]
  },
  {
   "cell_type": "markdown",
   "metadata": {
    "vscode": {
     "languageId": "plaintext"
    }
   },
   "source": [
    "# 2. Gradio\n",
    "\n",
    "머신러닝 모델을 기반으로 유저 인터페이스 구축 가능 라이브러리\n",
    "\n",
    "- 드롭다운, 슬라이더, 텍스트 상자 등으로 인터페이스 구성 가능\n",
    "- 빠른 머신러닝 프로토 타입을 구축하고 배포 가능\n",
    "- 앱에 대한 공유 가능한 링크를 받아 쉽게 협업 가능\n",
    "\n",
    "\n",
    "\n"
   ]
  },
  {
   "cell_type": "code",
   "execution_count": null,
   "metadata": {},
   "outputs": [],
   "source": [
    "import gradio as gr\n",
    "import pygwalker as pyg\n",
    " \n",
    "html_code = pyg.walk(..., return_html=True)\n",
    "gr.Interface(fn=None, inputs=None, outputs=gr.HTML()).launch()"
   ]
  },
  {
   "cell_type": "markdown",
   "metadata": {
    "vscode": {
     "languageId": "plaintext"
    }
   },
   "source": [
    "# 3. Dash\n",
    "자바스크립트가 필요하지 않은 프레임워크\n",
    "\n",
    "- 반응형 : 차트 중심으로 반응형 앱을 구축 가능\n",
    "- 사용자 정의 가능 : 다양한 Dash 구성 요소를 사용하여 사용자 정의 UI를 만들 수 있음\n",
    "- 통합 : 다른 Ploty 차트 라이브러리를 지원\n",
    "\n",
    "PyGWalker 통합 : Dash의 html.Div 구성요소를 사용하여 pygwalker 시각화를 원활하게 통합 가능\n"
   ]
  },
  {
   "cell_type": "code",
   "execution_count": null,
   "metadata": {},
   "outputs": [],
   "source": [
    "import dash\n",
    "import dash_dangerously_set_inner_html\n",
    " \n",
    "import dash_html_components as html\n",
    "import pygwalker as pyg\n",
    " \n",
    "from datasets import load_dataset\n",
    "# load dataset\n",
    "dataset = load_dataset(\"gradio/NYC-Airbnb-Open-Data\", split=\"train\")\n",
    "df = dataset.to_pandas()\n",
    " \n",
    "app = dash.Dash()\n",
    " \n",
    "html_code = pyg.walk(df, return_html=True)\n",
    " \n",
    "app.layout = html.Div([\n",
    "    dash_dangerously_set_inner_html.DangerouslySetInnerHTML(html_code),\n",
    "])\n",
    " \n",
    "if __name__ == '__main__':\n",
    "    app.run_server(debug=True)"
   ]
  },
  {
   "cell_type": "markdown",
   "metadata": {},
   "source": [
    "# 4. Shiny-Python\n",
    "R의 Shiny 라이브러리 처럼 대화형 앱으로 비슷한 기능을 제공\n",
    "\n",
    "- 반응성 : 실시간 업데이트를 위한 반응성 바인딩으로 구축 가능\n",
    "- UI 구성 요소 : 다양한 UI 구성 요소를 제공\n",
    "\n",
    "PyGWalker 통합 : ui.HTML 구성 요소를 사용하여 pygwalker 시각화를 shiny 앱에 포함 가능"
   ]
  },
  {
   "cell_type": "code",
   "execution_count": null,
   "metadata": {},
   "outputs": [],
   "source": [
    "from shiny import App, ui\n",
    "import pygwalker as pyg\n",
    " \n",
    "html_code = pyg.walk(..., return_html=True)\n",
    " \n",
    "app_ui = ui.page_fluid(\n",
    "    ui.HTML(html_code)\n",
    ")\n",
    " \n",
    "app = App(app_ui)"
   ]
  },
  {
   "cell_type": "markdown",
   "metadata": {},
   "source": [
    "# 5. Flask\n",
    "\n",
    "유연한 웹 프레임워크 (WSGI)\n",
    "\n",
    "- 마이크로프레임워크 : Flask는 웹 앱을 실행하는데 필요한 기본 기능ㅇ르 제공\n",
    "- 확장 :  Flask 기능을 확장할 수 잇는 확장 기능을 제공\n",
    "\n",
    "PyGWalker 통합 : render_template 함수를 사용하여 Flask 앱 내에서 pygwalker HTML을 랜더링 할 수 있음"
   ]
  },
  {
   "cell_type": "code",
   "execution_count": null,
   "metadata": {},
   "outputs": [],
   "source": [
    "from flask import Flask, render_template_string\n",
    "import pygwalker as pyg\n",
    " \n",
    "app = Flask(__name__)\n",
    " \n",
    "@app.route('/')\n",
    "def home():\n",
    "    html_code = pyg.walk(..., return_html=True)\n",
    "    return render_template_string(html_code)\n",
    " \n",
    "if __name__ == '__main__':\n",
    "    app.run(debug=True)"
   ]
  }
 ],
 "metadata": {
  "kernelspec": {
   "display_name": "Python 3",
   "language": "python",
   "name": "python3"
  },
  "language_info": {
   "name": "python",
   "version": "3.10.12"
  }
 },
 "nbformat": 4,
 "nbformat_minor": 2
}
